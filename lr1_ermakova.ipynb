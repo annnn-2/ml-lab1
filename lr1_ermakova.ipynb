{
  "nbformat": 4,
  "nbformat_minor": 0,
  "metadata": {
    "colab": {
      "name": "lr1_ermakova.ipynb",
      "provenance": [],
      "collapsed_sections": [
        "4kY8j-NKFMbf",
        "5eEm-LG0FDp7",
        "w9RRNQxdFX_A",
        "NRnrx-TzFhQL"
      ]
    },
    "kernelspec": {
      "name": "python3",
      "display_name": "Python 3"
    },
    "language_info": {
      "name": "python"
    }
  },
  "cells": [
    {
      "cell_type": "code",
      "source": [
        "import numpy as np              # Массивы (матрицы, векторы, линейная алгебра)\n",
        "import matplotlib.pyplot as plt # Научная графика\n",
        "%matplotlib inline \n",
        "  \n",
        "import pandas as pd             # Таблицы и временные ряды (dataframe, series)\n",
        "import seaborn as sns           # Еще больше красивой графики для визуализации данных\n",
        "import sklearn                  # Алгоритмы машинного обучения"
      ],
      "metadata": {
        "id": "z0m_JD1ajTC3"
      },
      "execution_count": 1,
      "outputs": []
    },
    {
      "cell_type": "code",
      "source": [
        "from google.colab import files\n",
        "uploaded = files.upload()"
      ],
      "metadata": {
        "colab": {
          "resources": {
            "http://localhost:8080/nbextensions/google.colab/files.js": {
              "data": "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",
              "ok": true,
              "headers": [
                [
                  "content-type",
                  "application/javascript"
                ]
              ],
              "status": 200,
              "status_text": ""
            }
          },
          "base_uri": "https://localhost:8080/",
          "height": 73
        },
        "id": "518jFm0qjTAA",
        "outputId": "a9cbd155-f880-45ca-c131-abd80d30c13c"
      },
      "execution_count": 3,
      "outputs": [
        {
          "output_type": "display_data",
          "data": {
            "text/plain": [
              "<IPython.core.display.HTML object>"
            ],
            "text/html": [
              "\n",
              "     <input type=\"file\" id=\"files-69e83111-ba61-403e-ab3c-2b283987363d\" name=\"files[]\" multiple disabled\n",
              "        style=\"border:none\" />\n",
              "     <output id=\"result-69e83111-ba61-403e-ab3c-2b283987363d\">\n",
              "      Upload widget is only available when the cell has been executed in the\n",
              "      current browser session. Please rerun this cell to enable.\n",
              "      </output>\n",
              "      <script src=\"/nbextensions/google.colab/files.js\"></script> "
            ]
          },
          "metadata": {}
        },
        {
          "output_type": "stream",
          "name": "stdout",
          "text": [
            "Saving airline_passenger_satisfaction.csv to airline_passenger_satisfaction.csv\n"
          ]
        }
      ]
    },
    {
      "cell_type": "code",
      "source": [
        "import io\n",
        "data_r = pd.read_csv(io.BytesIO(uploaded['airline_passenger_satisfaction.csv']))"
      ],
      "metadata": {
        "id": "wYmNWGBIjZEr"
      },
      "execution_count": 4,
      "outputs": []
    },
    {
      "cell_type": "code",
      "source": [
        "data_r.columns"
      ],
      "metadata": {
        "colab": {
          "base_uri": "https://localhost:8080/"
        },
        "id": "MTQwIPCfQEU7",
        "outputId": "5b2ca692-993a-405a-9555-5f597f241add"
      },
      "execution_count": 5,
      "outputs": [
        {
          "output_type": "execute_result",
          "data": {
            "text/plain": [
              "Index(['Unnamed: 0', 'Gender', 'customer_type', 'age', 'type_of_travel',\n",
              "       'customer_class', 'flight_distance', 'inflight_wifi_service',\n",
              "       'departure_arrival_time_convenient', 'ease_of_online_booking',\n",
              "       'gate_location', 'food_and_drink', 'online_boarding', 'seat_comfort',\n",
              "       'inflight_entertainment', 'onboard_service', 'leg_room_service',\n",
              "       'baggage_handling', 'checkin_service', 'inflight_service',\n",
              "       'cleanliness', 'departure_delay_in_minutes', 'arrival_delay_in_minutes',\n",
              "       'satisfaction'],\n",
              "      dtype='object')"
            ]
          },
          "metadata": {},
          "execution_count": 5
        }
      ]
    },
    {
      "cell_type": "code",
      "source": [
        "from sklearn.pipeline import Pipeline\n",
        "from sklearn.impute import SimpleImputer\n",
        "from sklearn.preprocessing import StandardScaler, OneHotEncoder\n",
        "from sklearn.model_selection import train_test_split, GridSearchCV\n",
        "from sklearn.compose import ColumnTransformer"
      ],
      "metadata": {
        "id": "Sa4YNqRCKh0G"
      },
      "execution_count": 6,
      "outputs": []
    },
    {
      "cell_type": "code",
      "source": [
        "import numpy as np\n",
        "from sklearn.base import BaseEstimator, ClassifierMixin, TransformerMixin\n",
        "from sklearn.utils.validation import check_X_y, check_array, check_is_fitted\n",
        "from collections import Counter\n",
        "from sklearn.metrics import euclidean_distances"
      ],
      "metadata": {
        "id": "-qAhIIKxGqFt"
      },
      "execution_count": 7,
      "outputs": []
    },
    {
      "cell_type": "code",
      "source": [
        "from sklearn.metrics import confusion_matrix\n",
        "from sklearn.metrics import mean_squared_error"
      ],
      "metadata": {
        "id": "voxmgJksDh67"
      },
      "execution_count": 8,
      "outputs": []
    },
    {
      "cell_type": "code",
      "source": [
        "from sklearn.model_selection import GridSearchCV"
      ],
      "metadata": {
        "id": "doB2RdeghKwK"
      },
      "execution_count": 9,
      "outputs": []
    },
    {
      "cell_type": "code",
      "source": [
        "from sklearn.metrics import accuracy_score"
      ],
      "metadata": {
        "id": "35Y1xpbrubM_"
      },
      "execution_count": 10,
      "outputs": []
    },
    {
      "cell_type": "code",
      "source": [
        "import joblib"
      ],
      "metadata": {
        "id": "iuvRU2-238kl"
      },
      "execution_count": 11,
      "outputs": []
    },
    {
      "cell_type": "code",
      "source": [
        "from sklearn.metrics import accuracy_score, confusion_matrix, recall_score, precision_score, roc_curve, classification_report, ConfusionMatrixDisplay"
      ],
      "metadata": {
        "id": "ajui9Guhk637"
      },
      "execution_count": 12,
      "outputs": []
    },
    {
      "cell_type": "markdown",
      "source": [
        "# Использование pipeline для предобработки"
      ],
      "metadata": {
        "id": "4kY8j-NKFMbf"
      }
    },
    {
      "cell_type": "markdown",
      "source": [
        "Напишем свою функцию для заполнения пропущенных значений для arrival_delay_in_minutes, далее трансформеры и объединяем их в общий pipeline. В итоге мы реализовали все пункты сделанные в 0ой работе (кроме визуализации). StandardScaler() - масштабировал (нормализовал данные), SpInpTransformer - заполнил пропущенные значения для arrival_delay_in_minutes, OneHotEncoder - перевел категориальные признаки. ColumnTransformer позволил дополнить необходимые преобразования - удалить не сильно влияющие на уровень удовлетворенности столбцы, выполнить описанные выше преобразования."
      ],
      "metadata": {
        "id": "PZdrygoN45Jr"
      }
    },
    {
      "cell_type": "code",
      "execution_count": 13,
      "metadata": {
        "id": "Xo54zFAPjMBa"
      },
      "outputs": [],
      "source": [
        "def ffill(data_r):\n",
        "  if 'arrival_delay_in_minutes' in data_r:\n",
        "    data_r['arrival_delay_in_minutes'].fillna(data_r['departure_delay_in_minutes'], inplace = True)\n",
        "  return data_r\n",
        "  \n",
        "class SpInpTransformer():\n",
        "  def __init__(self,f):\n",
        "    self.func = f\n",
        "\n",
        "  def transform(self, input_df, **transform_params):\n",
        "    return self.func(input_df)\n",
        "  \n",
        "  def fit(self, X, y = None, **fit_params):\n",
        "    return self\n",
        "\n",
        "drop_feat = ['Gender', 'customer_type', 'age',\n",
        "       'departure_arrival_time_convenient', 'customer_class',\n",
        "       'gate_location', 'food_and_drink', 'onboard_service', 'leg_room_service',\n",
        "       'baggage_handling', 'checkin_service', 'inflight_service',\n",
        "       'cleanliness', 'departure_delay_in_minutes','flight_distance','departure_delay_in_minutes']\n",
        "\n",
        "numeric_features = ['inflight_wifi_service', 'ease_of_online_booking',\n",
        "                    'online_boarding', 'seat_comfort', 'inflight_entertainment', \n",
        "                    'arrival_delay_in_minutes']\n",
        "\n",
        "numeric_transformer = Pipeline(\n",
        "    steps=[(\"imputer\", SimpleImputer(strategy=\"median\")),(\"scaler\", StandardScaler())]\n",
        "    )\n",
        "\n",
        "categorical_features = ['type_of_travel']\n",
        "\n",
        "categorical_transformer = Pipeline(\n",
        "    steps=[('onehotenc', OneHotEncoder(handle_unknown=\"ignore\"))]\n",
        "    )\n",
        "\n",
        "col_transformer = ColumnTransformer(transformers = \n",
        "                                     [('drop_columns', 'drop', drop_feat),\n",
        "                                      ('num_processing',numeric_transformer, numeric_features),\n",
        "                                      ('cat_processing', categorical_transformer, categorical_features)\n",
        "                                      ], remainder = 'drop')"
      ]
    },
    {
      "cell_type": "code",
      "source": [
        "X = data_r.drop(['satisfaction','Unnamed: 0'], axis=1)\n",
        "data_r['satisfaction'] = pd.factorize(data_r['satisfaction'])[0]\n",
        "y = data_r['satisfaction']\n",
        "\n",
        "X_train, X_test, y_train, y_test  = train_test_split(X, y, test_size=0.2, random_state=124)"
      ],
      "metadata": {
        "id": "okf695d9OVpV"
      },
      "execution_count": 14,
      "outputs": []
    },
    {
      "cell_type": "markdown",
      "source": [
        "# Логистическая регрессия"
      ],
      "metadata": {
        "id": "5eEm-LG0FDp7"
      }
    },
    {
      "cell_type": "code",
      "source": [
        "from sklearn.linear_model import LogisticRegression"
      ],
      "metadata": {
        "id": "K2-8-iwtGTwn"
      },
      "execution_count": 15,
      "outputs": []
    },
    {
      "cell_type": "markdown",
      "source": [
        "Моя реализация:\n",
        "выполнено наследование от BaseEstimator, ClassifierMixin, реализованы fit и predict в соответствии со стандартами scikit-learn."
      ],
      "metadata": {
        "id": "2bHCgUpqGhK_"
      }
    },
    {
      "cell_type": "code",
      "source": [
        "class Classifier_log_regression(BaseEstimator, ClassifierMixin):\n",
        "\n",
        "    def __init__(self, lr = 0.0001, n = 100):\n",
        "        self.lr = lr\n",
        "        self.n = n\n",
        "        self.w = None\n",
        "        self.b = None\n",
        "    \n",
        "    def fit(self, X, y):\n",
        "\n",
        "        # Check that X and y have correct shape\n",
        "        X, y = check_X_y(X, y)\n",
        "        \n",
        "        self.w = np.zeros(X.shape[1])\n",
        "        self.b = 0\n",
        "        \n",
        "        for _ in range(self.n):\n",
        "            l_m = np.dot(X, self.w)+ self.b\n",
        "            pred_labels = self._sigmoid(l_m)\n",
        "\n",
        "            dw = (1/self.n)*np.dot(X.T, pred_labels - y)\n",
        "            db = (1/self.n)*np.sum(pred_labels - y)\n",
        "            \n",
        "            self.w -= self.lr * dw\n",
        "            self.b -= self.lr * db\n",
        "        # Return the classifier\n",
        "        return self\n",
        "\n",
        "    def predict(self, X):\n",
        "\n",
        "        # Check is fit had been called\n",
        "        check_is_fitted(self, ['w', 'b'])\n",
        "\n",
        "        # Input validation\n",
        "        X = check_array(X)\n",
        "        \n",
        "        l_m =np.dot(X, self.w)+self.b\n",
        "        pred_labels = self._sigmoid(l_m)\n",
        "        pred_labels_cls = [1 if i > 0.5 else 0 for i in pred_labels]\n",
        "        return np.array(pred_labels_cls)\n",
        "\n",
        "    def _sigmoid(self, x): \n",
        "        return 1/(1+np.exp(-x))"
      ],
      "metadata": {
        "id": "isZfq4h7Gfr0"
      },
      "execution_count": 16,
      "outputs": []
    },
    {
      "cell_type": "markdown",
      "source": [
        "pipeline для последубщего обучения и тестирования"
      ],
      "metadata": {
        "id": "BUPb8aMKG4hu"
      }
    },
    {
      "cell_type": "code",
      "source": [
        "my_clf = Pipeline(\n",
        "    [\n",
        "        (\"fill_spaces\", SpInpTransformer(ffill)),\n",
        "        (\"transform_column\", col_transformer),\n",
        "        (\"model\", Classifier_log_regression())\n",
        "    ])\n",
        "clf = Pipeline(\n",
        "    [\n",
        "        (\"fill_spaces\", SpInpTransformer(ffill)),\n",
        "        (\"transform_column\", col_transformer),\n",
        "        (\"model\", LogisticRegression())\n",
        "    ])"
      ],
      "metadata": {
        "id": "kEWXturxG1A1"
      },
      "execution_count": 17,
      "outputs": []
    },
    {
      "cell_type": "markdown",
      "source": [
        "Обучение и тестирование для моей модели:"
      ],
      "metadata": {
        "id": "mRdqeGzE7x7J"
      }
    },
    {
      "cell_type": "code",
      "source": [
        "print('for my model:')\n",
        "my_clf.fit(X_train, y_train)\n",
        "y_pred_test = my_clf.predict(X_test)\n",
        "y_pred_train = my_clf.predict(X_train)\n",
        "print('confusion_matrix for test \\n', confusion_matrix(y_test, y_pred_test))\n",
        "print('confusion_matrix for train \\n', confusion_matrix(y_train, y_pred_train))\n",
        "MSE_train = mean_squared_error(y_train, y_pred_train)\n",
        "MSE_test  = mean_squared_error(y_test,  y_pred_test)\n",
        "print('MSE train = ', MSE_train, 'MSE test = ', MSE_test)\n",
        "acc_train = accuracy_score(y_train, y_pred_train)\n",
        "acc_test = accuracy_score(y_test,  y_pred_test)\n",
        "print('acc train = ', acc_train, 'acc test = ', acc_test)"
      ],
      "metadata": {
        "colab": {
          "base_uri": "https://localhost:8080/"
        },
        "id": "NrZloN1MN6K9",
        "outputId": "63735fec-3341-45e4-9854-62569c9d6ced"
      },
      "execution_count": 18,
      "outputs": [
        {
          "output_type": "stream",
          "name": "stdout",
          "text": [
            "for my model:\n",
            "confusion_matrix for test \n",
            " [[12359  2251]\n",
            " [ 2300  9066]]\n",
            "confusion_matrix for train \n",
            " [[49779  9063]\n",
            " [ 8767 36295]]\n",
            "MSE train =  0.1716007083461657 MSE test =  0.17520018478595628\n",
            "acc train =  0.8283992916538343 acc test =  0.8247998152140438\n"
          ]
        }
      ]
    },
    {
      "cell_type": "markdown",
      "source": [
        "Обучение и тестирование для sklearn модели:"
      ],
      "metadata": {
        "id": "8Lzegg2q75NG"
      }
    },
    {
      "cell_type": "code",
      "source": [
        "print('for sklern model:')\n",
        "clf.fit(X_train, y_train)\n",
        "print(\"model score: %.3f\" % clf.score(X_test, y_test))\n",
        "y_pred_test = clf.predict(X_test)\n",
        "y_pred_train = clf.predict(X_train)\n",
        "print('confusion_matrix for test \\n', confusion_matrix(y_test, y_pred_test))\n",
        "print('confusion_matrix for train \\n', confusion_matrix(y_train, y_pred_train))\n",
        "MSE_train = mean_squared_error(y_train, y_pred_train)\n",
        "MSE_test  = mean_squared_error(y_test,  y_pred_test)\n",
        "print('MSE train = ', MSE_train, 'MSE test = ', MSE_test)\n",
        "acc_train = accuracy_score(y_train, y_pred_train)\n",
        "acc_test = accuracy_score(y_test,  y_pred_test)\n",
        "print('acc train = ', acc_train, 'acc test = ', acc_test)"
      ],
      "metadata": {
        "colab": {
          "base_uri": "https://localhost:8080/"
        },
        "id": "_wPMeda6J-5R",
        "outputId": "84c1be94-5c50-41ac-c270-d839448ba1c0"
      },
      "execution_count": 19,
      "outputs": [
        {
          "output_type": "stream",
          "name": "stdout",
          "text": [
            "for sklern model:\n",
            "model score: 0.831\n",
            "confusion_matrix for test \n",
            " [[12444  2166]\n",
            " [ 2222  9144]]\n",
            "confusion_matrix for train \n",
            " [[50112  8730]\n",
            " [ 8437 36625]]\n",
            "MSE train =  0.16521981829380966 MSE test =  0.16892516168771174\n",
            "acc train =  0.8347801817061903 acc test =  0.8310748383122882\n"
          ]
        }
      ]
    },
    {
      "cell_type": "markdown",
      "source": [
        "Результат встроенной модели оказался лучше примерно на 1 процент, я думаю это связано с большим количеством варьируемых параметров в sklearn."
      ],
      "metadata": {
        "id": "OeYOCSYO7-xo"
      }
    },
    {
      "cell_type": "markdown",
      "source": [
        "Реализуем поиск по сетке с кросс-валидацией"
      ],
      "metadata": {
        "id": "QqphQPfphiJr"
      }
    },
    {
      "cell_type": "code",
      "source": [
        "parameters = {'model__C': np.logspace(-10, 10, 20), 'model__penalty':['l1', 'l2'], 'model__solver':['liblinear']}\n",
        "\n",
        "grid_search = GridSearchCV(clf,  \n",
        "                           param_grid = parameters,\n",
        "                           cv = 5)\n",
        "\n",
        "grid_search.fit(X_train, y_train)   "
      ],
      "metadata": {
        "colab": {
          "base_uri": "https://localhost:8080/"
        },
        "id": "Z3FkfbLElM5k",
        "outputId": "f60c7d82-02a1-45eb-b592-c195b9258489"
      },
      "execution_count": 20,
      "outputs": [
        {
          "output_type": "execute_result",
          "data": {
            "text/plain": [
              "GridSearchCV(cv=5,\n",
              "             estimator=Pipeline(steps=[('fill_spaces',\n",
              "                                        <__main__.SpInpTransformer object at 0x7f6ca3b49750>),\n",
              "                                       ('transform_column',\n",
              "                                        ColumnTransformer(transformers=[('drop_columns',\n",
              "                                                                         'drop',\n",
              "                                                                         ['Gender',\n",
              "                                                                          'customer_type',\n",
              "                                                                          'age',\n",
              "                                                                          'departure_arrival_time_convenient',\n",
              "                                                                          'customer_class',\n",
              "                                                                          'gate_location',\n",
              "                                                                          'food_and_drink',\n",
              "                                                                          'onboard_service',\n",
              "                                                                          'leg_room_service',\n",
              "                                                                          'baggage_h...\n",
              "             param_grid={'model__C': array([1.00000000e-10, 1.12883789e-09, 1.27427499e-08, 1.43844989e-07,\n",
              "       1.62377674e-06, 1.83298071e-05, 2.06913808e-04, 2.33572147e-03,\n",
              "       2.63665090e-02, 2.97635144e-01, 3.35981829e+00, 3.79269019e+01,\n",
              "       4.28133240e+02, 4.83293024e+03, 5.45559478e+04, 6.15848211e+05,\n",
              "       6.95192796e+06, 7.84759970e+07, 8.85866790e+08, 1.00000000e+10]),\n",
              "                         'model__penalty': ['l1', 'l2'],\n",
              "                         'model__solver': ['liblinear']})"
            ]
          },
          "metadata": {},
          "execution_count": 20
        }
      ]
    },
    {
      "cell_type": "code",
      "source": [
        "print('Best Params:', grid_search.best_params_)\n",
        "print('Best score:', grid_search.best_score_)\n",
        "print(grid_search.best_estimator_.get_params()['model'])"
      ],
      "metadata": {
        "colab": {
          "base_uri": "https://localhost:8080/"
        },
        "id": "r-OC1PkjyLiK",
        "outputId": "e41454a0-57f1-4496-e584-123318fbd6bb"
      },
      "execution_count": 21,
      "outputs": [
        {
          "output_type": "stream",
          "name": "stdout",
          "text": [
            "Best Params: {'model__C': 0.002335721469090121, 'model__penalty': 'l1', 'model__solver': 'liblinear'}\n",
            "Best score: 0.8414594280080842\n",
            "LogisticRegression(C=0.002335721469090121, penalty='l1', solver='liblinear')\n"
          ]
        }
      ]
    },
    {
      "cell_type": "markdown",
      "source": [
        "В результате лучшими параметрами оказались 'model__C': 0.002335721469090121, 'model__penalty': 'l1'"
      ],
      "metadata": {
        "id": "pHB36Jqb8fTY"
      }
    },
    {
      "cell_type": "code",
      "source": [
        "y_pred_test = grid_search.predict(X_test)\n",
        "acc_test = accuracy_score(y_test,  y_pred_test)\n",
        "acc_test"
      ],
      "metadata": {
        "colab": {
          "base_uri": "https://localhost:8080/"
        },
        "id": "B4gBV1Xa8_W4",
        "outputId": "4561414b-4764-43c1-ad4c-f09ce9760f97"
      },
      "execution_count": 22,
      "outputs": [
        {
          "output_type": "execute_result",
          "data": {
            "text/plain": [
              "0.8347320603634124"
            ]
          },
          "metadata": {},
          "execution_count": 22
        }
      ]
    },
    {
      "cell_type": "markdown",
      "source": [
        "Но точность на тестовой выборке практически не изменилась."
      ],
      "metadata": {
        "id": "T6DJ5Gpz9y6D"
      }
    },
    {
      "cell_type": "markdown",
      "source": [
        "Получим еще оценки:"
      ],
      "metadata": {
        "id": "DoXYP23hoz0P"
      }
    },
    {
      "cell_type": "code",
      "source": [
        "recall_score(y_test, y_pred_test)"
      ],
      "metadata": {
        "colab": {
          "base_uri": "https://localhost:8080/"
        },
        "id": "aFTEW4l6lF1O",
        "outputId": "9e917398-1004-4d97-81a1-85050a0f96d0"
      },
      "execution_count": 23,
      "outputs": [
        {
          "output_type": "execute_result",
          "data": {
            "text/plain": [
              "0.8005454865388"
            ]
          },
          "metadata": {},
          "execution_count": 23
        }
      ]
    },
    {
      "cell_type": "code",
      "source": [
        "precision_score(y_test, y_pred_test)"
      ],
      "metadata": {
        "colab": {
          "base_uri": "https://localhost:8080/"
        },
        "id": "QkjBLPvylLY0",
        "outputId": "dade03f4-b069-46fa-cd9c-45c625d27215"
      },
      "execution_count": 24,
      "outputs": [
        {
          "output_type": "execute_result",
          "data": {
            "text/plain": [
              "0.8178876404494382"
            ]
          },
          "metadata": {},
          "execution_count": 24
        }
      ]
    },
    {
      "cell_type": "code",
      "source": [
        "from sklearn.metrics import auc \n",
        "  \n",
        "fpr, tpr, thresholds = roc_curve(y_test, y_pred_test, pos_label=1) \n",
        "print('fpr: ' + str(fpr))\n",
        "print('tpr: ' + str(tpr))\n",
        "print('thresholds: ' + str(thresholds))\n",
        " \n",
        "  \n",
        "AUC = auc(fpr, tpr) \n",
        "print('AUC: ' + str(AUC))\n",
        " \n",
        "print('\\n\\n')\n",
        "plt.plot(fpr, tpr)  \n",
        "plt.title('ROC_curve' + '(AUC: ' + str(AUC) + ')' )  \n",
        "plt.ylabel('True Positive Rate')  \n",
        "plt.xlabel('False Positive Rate')  \n",
        "plt.show()"
      ],
      "metadata": {
        "colab": {
          "base_uri": "https://localhost:8080/",
          "height": 417
        },
        "id": "PPc0afuTlR2w",
        "outputId": "0e6b78d4-2a47-4a8e-946d-2224efc51ef4"
      },
      "execution_count": 25,
      "outputs": [
        {
          "output_type": "stream",
          "name": "stdout",
          "text": [
            "fpr: [0.         0.13867214 1.        ]\n",
            "tpr: [0.         0.80054549 1.        ]\n",
            "thresholds: [2 1 0]\n",
            "AUC: 0.8309366720852795\n",
            "\n",
            "\n",
            "\n"
          ]
        },
        {
          "output_type": "display_data",
          "data": {
            "text/plain": [
              "<Figure size 432x288 with 1 Axes>"
            ],
            "image/png": "[encoded data removed]"
          },
          "metadata": {
            "needs_background": "light"
          }
        }
      ]
    },
    {
      "cell_type": "markdown",
      "source": [
        "Сохраним эти гиперпараметры в файл, вместе с обученной моделью"
      ],
      "metadata": {
        "id": "3-3tDUkt-XJl"
      }
    },
    {
      "cell_type": "code",
      "source": [
        "joblib.dump(grid_search, \"log_reg_model.pkl\")"
      ],
      "metadata": {
        "colab": {
          "base_uri": "https://localhost:8080/"
        },
        "id": "ei2x1R8Y1KBg",
        "outputId": "989f884c-025e-459b-a83b-811d5c7301ee"
      },
      "execution_count": 29,
      "outputs": [
        {
          "output_type": "execute_result",
          "data": {
            "text/plain": [
              "['log_reg_model.pkl']"
            ]
          },
          "metadata": {},
          "execution_count": 29
        }
      ]
    },
    {
      "cell_type": "markdown",
      "source": [
        "проверим"
      ],
      "metadata": {
        "id": "vAgN8uV4-mUM"
      }
    },
    {
      "cell_type": "code",
      "source": [
        "clf_log_reg = joblib.load(\"log_reg_model.pkl\")\n",
        "y_pred = clf_log_reg.predict(X_test)"
      ],
      "metadata": {
        "id": "plBtEjTn3cfG"
      },
      "execution_count": 30,
      "outputs": []
    },
    {
      "cell_type": "code",
      "source": [
        "accuracy_score(y_test, y_pred)"
      ],
      "metadata": {
        "colab": {
          "base_uri": "https://localhost:8080/"
        },
        "id": "kz6727TO4jXd",
        "outputId": "7f606e22-75a3-4c68-f56c-34b2a8034174"
      },
      "execution_count": 31,
      "outputs": [
        {
          "output_type": "execute_result",
          "data": {
            "text/plain": [
              "0.8347320603634124"
            ]
          },
          "metadata": {},
          "execution_count": 31
        }
      ]
    },
    {
      "cell_type": "markdown",
      "source": [
        "# KNN"
      ],
      "metadata": {
        "id": "w9RRNQxdFX_A"
      }
    },
    {
      "cell_type": "code",
      "source": [
        "from sklearn.neighbors import KNeighborsRegressor"
      ],
      "metadata": {
        "id": "MekoiA3nLvkm"
      },
      "execution_count": null,
      "outputs": []
    },
    {
      "cell_type": "code",
      "source": [
        "from sklearn.decomposition import PCA"
      ],
      "metadata": {
        "id": "bST6DpMQExfb"
      },
      "execution_count": null,
      "outputs": []
    },
    {
      "cell_type": "markdown",
      "source": [
        "Моя реализация: выполнено наследование от BaseEstimator, ClassifierMixin, реализованы fit и predict в соответствии со стандартами scikit-learn."
      ],
      "metadata": {
        "id": "UEseSmX5LwRJ"
      }
    },
    {
      "cell_type": "code",
      "source": [
        "def eucl_dist(x1, x2):\n",
        "      return np.sqrt(np.sum(x1-x2)**2)\n",
        "\n",
        "class Classifier_knn(BaseEstimator, ClassifierMixin):\n",
        "\n",
        "    def __init__(self, k = 20):\n",
        "        self.k = k\n",
        "    \n",
        "    def fit(self, X, y):\n",
        "\n",
        "        # Check that X and y have correct shape\n",
        "        X, y = check_X_y(X, y)\n",
        "\n",
        "        self.X = X\n",
        "        self.y = y\n",
        "        # Return the classifier\n",
        "        return self\n",
        "\n",
        "    def predict(self, X):\n",
        "\n",
        "        # Check is fit had been called\n",
        "        check_is_fitted(self, ['X', 'y'])\n",
        "\n",
        "        # Input validation\n",
        "        X = check_array(X)\n",
        "        \n",
        "        pred_labels = [self.pred_for_each(x) for x in X]\n",
        "        return np.array(pred_labels)\n",
        "  \n",
        "    def pred_for_each(self, x):\n",
        "        dist = [eucl_dist(x, xx) for xx in self.X]\n",
        "        idx = np.argsort(dist)[:self.k]\n",
        "        labels = [self.y[i] for i in idx]\n",
        "        most_common = Counter(labels).most_common(1)\n",
        "        return most_common[0][0]\n"
      ],
      "metadata": {
        "id": "M4o5gu7VFbcL"
      },
      "execution_count": null,
      "outputs": []
    },
    {
      "cell_type": "markdown",
      "source": [
        "pipeline для последубщего обучения и тестирования"
      ],
      "metadata": {
        "id": "6uNOoCkNMS3N"
      }
    },
    {
      "cell_type": "code",
      "source": [
        "my_clf = Pipeline(\n",
        "    [\n",
        "        (\"fill_spaces\", SpInpTransformer(ffill)),\n",
        "        (\"transform_column\", col_transformer),\n",
        "        (\"model\", Classifier_knn())\n",
        "    ])\n",
        "clf = Pipeline(\n",
        "    [\n",
        "        (\"fill_spaces\", SpInpTransformer(ffill)),\n",
        "        (\"transform_column\", col_transformer),\n",
        "        ('pca', PCA()),\n",
        "        (\"model\", KNeighborsRegressor())\n",
        "    ])"
      ],
      "metadata": {
        "id": "uQYTk4W7MYHn"
      },
      "execution_count": null,
      "outputs": []
    },
    {
      "cell_type": "markdown",
      "source": [
        "Обучение и тестирование для моей модели:"
      ],
      "metadata": {
        "id": "FfdTfML0D5tj"
      }
    },
    {
      "cell_type": "code",
      "source": [
        "data_r = data_r.sample(n=10000, replace=False, axis=0) \n",
        "X1 = data_r.drop(['satisfaction','Unnamed: 0'], axis=1)\n",
        "data_r['satisfaction'] = pd.factorize(data_r['satisfaction'])[0]\n",
        "y1 = data_r['satisfaction']"
      ],
      "metadata": {
        "id": "IuoiXi9c-1Mq"
      },
      "execution_count": null,
      "outputs": []
    },
    {
      "cell_type": "code",
      "source": [
        "X_train1, X_test1, y_train1, y_test1  = train_test_split(X1, y1, test_size=0.2, random_state=124)"
      ],
      "metadata": {
        "id": "PjnP-YtD-PKJ"
      },
      "execution_count": null,
      "outputs": []
    },
    {
      "cell_type": "code",
      "source": [
        "X_test1.shape"
      ],
      "metadata": {
        "colab": {
          "base_uri": "https://localhost:8080/"
        },
        "id": "PdN-XiBtApgT",
        "outputId": "5393daa1-2b3d-4ef0-ad8a-b0083efac18a"
      },
      "execution_count": null,
      "outputs": [
        {
          "output_type": "execute_result",
          "data": {
            "text/plain": [
              "(2000, 22)"
            ]
          },
          "metadata": {},
          "execution_count": 34
        }
      ]
    },
    {
      "cell_type": "code",
      "source": [
        "print('for my model:')\n",
        "my_clf.fit(X_train1, y_train1)\n",
        "y_pred_test = my_clf.predict(X_test1)\n",
        "y_pred_train = my_clf.predict(X_train1)\n",
        "print('confusion_matrix for test \\n', confusion_matrix(y_test1, y_pred_test))\n",
        "print('confusion_matrix for train \\n', confusion_matrix(y_train1, y_pred_train))\n",
        "MSE_train = mean_squared_error(y_train1, y_pred_train)\n",
        "MSE_test  = mean_squared_error(y_test1,  y_pred_test)\n",
        "print('MSE train = ', MSE_train, 'MSE test = ', MSE_test)\n",
        "acc_train = accuracy_score(y_train1, y_pred_train)\n",
        "acc_test = accuracy_score(y_test1,  y_pred_test)\n",
        "print('acc train = ', acc_train, 'acc test = ', acc_test)"
      ],
      "metadata": {
        "colab": {
          "base_uri": "https://localhost:8080/"
        },
        "id": "JWFQ3LEwDuwY",
        "outputId": "1d8b1ef2-b509-45f5-ab52-cb1b606f49c4"
      },
      "execution_count": null,
      "outputs": [
        {
          "output_type": "stream",
          "name": "stdout",
          "text": [
            "for my model:\n",
            "confusion_matrix for test \n",
            " [[903 231]\n",
            " [259 607]]\n",
            "confusion_matrix for train \n",
            " [[3789  709]\n",
            " [ 890 2612]]\n",
            "MSE train =  0.199875 MSE test =  0.245\n",
            "acc train =  0.800125 acc test =  0.755\n"
          ]
        }
      ]
    },
    {
      "cell_type": "markdown",
      "source": [
        "Обучение и тестирование для sklearn модели:"
      ],
      "metadata": {
        "id": "C-MGAGkiD-qZ"
      }
    },
    {
      "cell_type": "code",
      "source": [
        "grid_searcher = GridSearchCV(\n",
        "    clf,\n",
        "    param_grid={\n",
        "        'pca__n_components': [2, 3, 4, 5, 6, 7],\n",
        "        'model__n_neighbors': range(5, 30, 5),\n",
        "        'model__weights': ['distance'],\n",
        "        'model__p': [2]\n",
        "    },\n",
        "    cv=3\n",
        ")"
      ],
      "metadata": {
        "id": "SLRP9zBZ5l4C"
      },
      "execution_count": null,
      "outputs": []
    },
    {
      "cell_type": "code",
      "source": [
        "%%time\n",
        "\n",
        "grid_searcher.fit(X_train, y_train)"
      ],
      "metadata": {
        "colab": {
          "base_uri": "https://localhost:8080/"
        },
        "id": "zU2l5mcR5vtv",
        "outputId": "d2c022a6-ad8c-43d3-9a34-6d0c9df503a8"
      },
      "execution_count": null,
      "outputs": [
        {
          "output_type": "stream",
          "name": "stdout",
          "text": [
            "CPU times: user 1min 25s, sys: 26.9 s, total: 1min 52s\n",
            "Wall time: 1min 23s\n"
          ]
        },
        {
          "output_type": "execute_result",
          "data": {
            "text/plain": [
              "GridSearchCV(cv=3,\n",
              "             estimator=Pipeline(steps=[('fill_spaces',\n",
              "                                        <__main__.SpInpTransformer object at 0x7efc8e1638d0>),\n",
              "                                       ('transform_column',\n",
              "                                        ColumnTransformer(transformers=[('drop_columns',\n",
              "                                                                         'drop',\n",
              "                                                                         ['Gender',\n",
              "                                                                          'customer_type',\n",
              "                                                                          'age',\n",
              "                                                                          'departure_arrival_time_convenient',\n",
              "                                                                          'customer_class',\n",
              "                                                                          'gate_location',\n",
              "                                                                          'food_and_drink',\n",
              "                                                                          'onboard_service',\n",
              "                                                                          'leg_room_service',\n",
              "                                                                          'baggage_h...\n",
              "                                                                          'seat_comfort',\n",
              "                                                                          'inflight_entertainment',\n",
              "                                                                          'arrival_delay_in_minutes']),\n",
              "                                                                        ('cat_processing',\n",
              "                                                                         Pipeline(steps=[('onehotenc',\n",
              "                                                                                          OneHotEncoder(handle_unknown='ignore'))]),\n",
              "                                                                         ['type_of_travel'])])),\n",
              "                                       ('pca', PCA()),\n",
              "                                       ('model', KNeighborsRegressor())]),\n",
              "             param_grid={'model__n_neighbors': range(5, 30, 5), 'model__p': [2],\n",
              "                         'model__weights': ['distance'],\n",
              "                         'pca__n_components': [2, 3, 4, 5, 6, 7]})"
            ]
          },
          "metadata": {},
          "execution_count": 37
        }
      ]
    },
    {
      "cell_type": "markdown",
      "source": [
        "Рассмотрим предсказание лучшей модели"
      ],
      "metadata": {
        "id": "isDXrSBJ6zjV"
      }
    },
    {
      "cell_type": "code",
      "source": [
        "y_pred_test = grid_searcher.predict(X_test).astype(int)\n",
        "y_pred_train = grid_searcher.predict(X_train).astype(int)\n",
        "print('confusion_matrix for test \\n', confusion_matrix(y_test, y_pred_test))\n",
        "print('confusion_matrix for train \\n', confusion_matrix(y_train, y_pred_train))\n",
        "MSE_train = mean_squared_error(y_train, y_pred_train)\n",
        "MSE_test  = mean_squared_error(y_test,  y_pred_test)\n",
        "print('MSE train = ', MSE_train, 'MSE test = ', MSE_test)\n",
        "acc_train = accuracy_score(y_train, y_pred_train)\n",
        "acc_test = accuracy_score(y_test,  y_pred_test)\n",
        "print('acc train = ', acc_train, 'acc test = ', acc_test)"
      ],
      "metadata": {
        "colab": {
          "base_uri": "https://localhost:8080/"
        },
        "id": "oUzEOmha6wuw",
        "outputId": "7196f1a1-06b6-417e-91f8-9718cc1395b5"
      },
      "execution_count": null,
      "outputs": [
        {
          "output_type": "stream",
          "name": "stdout",
          "text": [
            "confusion_matrix for test \n",
            " [[14578    32]\n",
            " [ 4321  7045]]\n",
            "confusion_matrix for train \n",
            " [[58818    24]\n",
            " [16579 28483]]\n",
            "MSE train =  0.15979173082845705 MSE test =  0.16757776408992917\n",
            "acc train =  0.840208269171543 acc test =  0.8324222359100708\n"
          ]
        }
      ]
    },
    {
      "cell_type": "markdown",
      "source": [
        "Точность предсказания на тестовой выборке гораздо лучше чем у моей модели. Думаю, это связано с тем что при применении классического алгоритмя всего объема данных было слишком много, поэтому при обучении на части данных предсказание оказалось хуже."
      ],
      "metadata": {
        "id": "nFVgqny2qivh"
      }
    },
    {
      "cell_type": "code",
      "source": [
        "grid_searcher.best_params_"
      ],
      "metadata": {
        "colab": {
          "base_uri": "https://localhost:8080/"
        },
        "id": "eiVhrslr7UgO",
        "outputId": "e8be9dfe-5546-40f7-81c0-eb893e07d6fb"
      },
      "execution_count": null,
      "outputs": [
        {
          "output_type": "execute_result",
          "data": {
            "text/plain": [
              "{'model__n_neighbors': 25,\n",
              " 'model__p': 2,\n",
              " 'model__weights': 'distance',\n",
              " 'pca__n_components': 7}"
            ]
          },
          "metadata": {},
          "execution_count": 39
        }
      ]
    },
    {
      "cell_type": "markdown",
      "source": [
        "Получим еще оценки:"
      ],
      "metadata": {
        "id": "0Ip40bZ9pW-I"
      }
    },
    {
      "cell_type": "code",
      "source": [
        "recall_score(y_test, y_pred_test)"
      ],
      "metadata": {
        "colab": {
          "base_uri": "https://localhost:8080/"
        },
        "id": "1abkYr1MpDih",
        "outputId": "864e3c7e-dde4-42b5-ac65-4b477385fccb"
      },
      "execution_count": null,
      "outputs": [
        {
          "output_type": "execute_result",
          "data": {
            "text/plain": [
              "0.6198310751363716"
            ]
          },
          "metadata": {},
          "execution_count": 40
        }
      ]
    },
    {
      "cell_type": "code",
      "source": [
        "precision_score(y_test, y_pred_test)"
      ],
      "metadata": {
        "colab": {
          "base_uri": "https://localhost:8080/"
        },
        "id": "szweT2GApEnM",
        "outputId": "40847907-63d1-4d08-b899-04d9cd5d9618"
      },
      "execution_count": null,
      "outputs": [
        {
          "output_type": "execute_result",
          "data": {
            "text/plain": [
              "0.9954783100183694"
            ]
          },
          "metadata": {},
          "execution_count": 41
        }
      ]
    },
    {
      "cell_type": "code",
      "source": [
        "from sklearn.metrics import auc \n",
        "  \n",
        "fpr, tpr, thresholds = roc_curve(y_test, y_pred_test, pos_label=1) \n",
        "print('fpr: ' + str(fpr))\n",
        "print('tpr: ' + str(tpr))\n",
        "print('thresholds: ' + str(thresholds))\n",
        " \n",
        "  \n",
        "AUC = auc(fpr, tpr) \n",
        "print('AUC: ' + str(AUC))\n",
        " \n",
        "print('\\n\\n')\n",
        "plt.plot(fpr, tpr)  \n",
        "plt.title('ROC_curve' + '(AUC: ' + str(AUC) + ')' )  \n",
        "plt.ylabel('True Positive Rate')  \n",
        "plt.xlabel('False Positive Rate')  \n",
        "plt.show()"
      ],
      "metadata": {
        "colab": {
          "base_uri": "https://localhost:8080/",
          "height": 417
        },
        "id": "tJHCRDrzpRf5",
        "outputId": "f6655054-14aa-4ff6-d83d-4206473342d9"
      },
      "execution_count": null,
      "outputs": [
        {
          "output_type": "stream",
          "name": "stdout",
          "text": [
            "fpr: [0.         0.00219028 1.        ]\n",
            "tpr: [0.         0.61983108 1.        ]\n",
            "thresholds: [2 1 0]\n",
            "AUC: 0.808820397253333\n",
            "\n",
            "\n",
            "\n"
          ]
        },
        {
          "output_type": "display_data",
          "data": {
            "text/plain": [
              "<Figure size 432x288 with 1 Axes>"
            ],
            "image/png": "[encoded data removed]"
          },
          "metadata": {
            "needs_background": "light"
          }
        }
      ]
    },
    {
      "cell_type": "markdown",
      "source": [
        "Сохраним эти гиперпараметры в файл, вместе с обученной моделью"
      ],
      "metadata": {
        "id": "Nf34b_1JEmKE"
      }
    },
    {
      "cell_type": "code",
      "source": [
        "joblib.dump(grid_searcher, \"knn_model.pkl\")"
      ],
      "metadata": {
        "colab": {
          "base_uri": "https://localhost:8080/"
        },
        "id": "4grz9HWQEYiS",
        "outputId": "87c04fe7-096d-4b2d-c194-90e8faf2a37e"
      },
      "execution_count": null,
      "outputs": [
        {
          "output_type": "execute_result",
          "data": {
            "text/plain": [
              "['knn_model.pkl']"
            ]
          },
          "metadata": {},
          "execution_count": 43
        }
      ]
    },
    {
      "cell_type": "markdown",
      "source": [
        "проверим"
      ],
      "metadata": {
        "id": "TxXeBnJPEsHc"
      }
    },
    {
      "cell_type": "code",
      "source": [
        "clf_knn = joblib.load(\"knn_model.pkl\")\n",
        "y_pred = clf_knn.predict(X_test)"
      ],
      "metadata": {
        "id": "ROARRu6fEbY_"
      },
      "execution_count": null,
      "outputs": []
    },
    {
      "cell_type": "code",
      "source": [
        "accuracy_score(y_test, y_pred.astype(int))"
      ],
      "metadata": {
        "colab": {
          "base_uri": "https://localhost:8080/"
        },
        "id": "OcXG3WqMEe1j",
        "outputId": "6593286d-fb37-441a-e55d-44044e6a18a5"
      },
      "execution_count": null,
      "outputs": [
        {
          "output_type": "execute_result",
          "data": {
            "text/plain": [
              "0.8324222359100708"
            ]
          },
          "metadata": {},
          "execution_count": 45
        }
      ]
    },
    {
      "cell_type": "markdown",
      "source": [
        "# SVM"
      ],
      "metadata": {
        "id": "fLzhCsiEFcKT"
      }
    },
    {
      "cell_type": "code",
      "source": [
        "from sklearn.svm import SVC"
      ],
      "metadata": {
        "id": "Lk9yEgl7FgB7"
      },
      "execution_count": null,
      "outputs": []
    },
    {
      "cell_type": "markdown",
      "source": [
        "Моя реализация: выполнено наследование от BaseEstimator, ClassifierMixin, реализованы fit и predict в соответствии со стандартами scikit-learn."
      ],
      "metadata": {
        "id": "qdoAikSSbrGj"
      }
    },
    {
      "cell_type": "code",
      "source": [
        "class SVM_classifier(BaseEstimator, ClassifierMixin):\n",
        "\n",
        "    def __init__(self, lr = 0.001, lambd = 0.01, n = 1000):\n",
        "        self.lr = lr\n",
        "        self.lambd = lambd\n",
        "        self.n = n\n",
        "        self.w = None\n",
        "        self.b = None\n",
        "    \n",
        "    def fit(self, X, y):\n",
        "\n",
        "        # Check that X and y have correct shape\n",
        "        X, y = check_X_y(X, y)\n",
        "        \n",
        "        y_ = np.where(y <= 0, -1, 1)\n",
        "        n_samp, n_ft = X.shape\n",
        "\n",
        "        self.w = np.zeros(n_ft)\n",
        "        self.b = 0\n",
        "\n",
        "        for _ in range(self.n):\n",
        "          for idx, x_i in enumerate(X):\n",
        "            cond = y_[idx] * (np.dot(x_i, self.w)-self.b) >= 1\n",
        "            if cond:\n",
        "              self.w -= self.lr * (2*self.lambd*self.w)\n",
        "            else:\n",
        "              self.w -= self.lr * (2*self.lambd*self.w - np.dot(x_i, y_[idx]))\n",
        "              self.b -= self.lr * y_[idx]\n",
        "        # Return the classifier\n",
        "        return self\n",
        "\n",
        "    def predict(self, X):\n",
        "\n",
        "        # Check is fit had been called\n",
        "        check_is_fitted(self, ['w', 'b'])\n",
        "\n",
        "        # Input validation\n",
        "        X = check_array(X)\n",
        "        \n",
        "        l_o =np.dot(X, self.w) - self.b\n",
        "        return np.sign(l_o)"
      ],
      "metadata": {
        "id": "NlIwbDd5bqsL"
      },
      "execution_count": null,
      "outputs": []
    },
    {
      "cell_type": "markdown",
      "source": [
        "pipeline для последубщего обучения и тестирования"
      ],
      "metadata": {
        "id": "pkaBrhDXb_dS"
      }
    },
    {
      "cell_type": "code",
      "source": [
        "my_clf = Pipeline(\n",
        "    [\n",
        "        (\"fill_spaces\", SpInpTransformer(ffill)),\n",
        "        (\"transform_column\", col_transformer),\n",
        "        (\"method\", SVM_classifier())\n",
        "    ])\n",
        "clf = Pipeline(\n",
        "    [\n",
        "        (\"fill_spaces\", SpInpTransformer(ffill)),\n",
        "        (\"transform_column\", col_transformer),\n",
        "        (\"model\", SVC())\n",
        "    ])"
      ],
      "metadata": {
        "id": "vzP_KYsZb55W"
      },
      "execution_count": null,
      "outputs": []
    },
    {
      "cell_type": "markdown",
      "source": [
        "Обучение и тестирование для моей модели:"
      ],
      "metadata": {
        "id": "25ZtP40LyZom"
      }
    },
    {
      "cell_type": "code",
      "source": [
        "y_train1 = np.where(y_train1==0, -1,1)\n",
        "y_test1 = np.where(y_test1==0, -1,1)"
      ],
      "metadata": {
        "id": "ATiWHt5Tsmxv"
      },
      "execution_count": null,
      "outputs": []
    },
    {
      "cell_type": "code",
      "source": [
        "print('for my model:')\n",
        "my_clf.fit(X_train1, y_train1)\n",
        "y_pred_test = my_clf.predict(X_test1)\n",
        "y_pred_train = my_clf.predict(X_train1)\n",
        "print('confusion_matrix for test \\n', confusion_matrix(y_test1, y_pred_test))\n",
        "print('confusion_matrix for train \\n', confusion_matrix(y_train1, y_pred_train))\n",
        "MSE_train = mean_squared_error(y_train1, y_pred_train)\n",
        "MSE_test  = mean_squared_error(y_test1,  y_pred_test)\n",
        "print('MSE train = ', MSE_train, 'MSE test = ', MSE_test)\n",
        "acc_train = accuracy_score(y_train1, y_pred_train)\n",
        "acc_test = accuracy_score(y_test1,  y_pred_test)\n",
        "print('acc train = ', acc_train, 'acc test = ', acc_test)"
      ],
      "metadata": {
        "colab": {
          "base_uri": "https://localhost:8080/"
        },
        "id": "5JEcXLDpcHWU",
        "outputId": "74f381ee-f525-40e6-e1fe-4944985ba8f8"
      },
      "execution_count": null,
      "outputs": [
        {
          "output_type": "stream",
          "name": "stdout",
          "text": [
            "for my model:\n",
            "confusion_matrix for test \n",
            " [[1000  131]\n",
            " [ 191  678]]\n",
            "confusion_matrix for train \n",
            " [[4107  514]\n",
            " [ 684 2695]]\n",
            "MSE train =  0.599 MSE test =  0.644\n",
            "acc train =  0.85025 acc test =  0.839\n"
          ]
        }
      ]
    },
    {
      "cell_type": "markdown",
      "source": [
        "Даже лишь на двух тысячах данных отличная точность на тестовой выборке - 84%."
      ],
      "metadata": {
        "id": "WIRaL9sSvIYE"
      }
    },
    {
      "cell_type": "markdown",
      "source": [
        "Обучение и тестирование для sklearn модели:"
      ],
      "metadata": {
        "id": "-Wftcvhayd-H"
      }
    },
    {
      "cell_type": "code",
      "source": [
        "print('for sklern model:')\n",
        "clf.fit(X_train, y_train)\n",
        "print(\"model score: %.3f\" % clf.score(X_test, y_test))\n",
        "y_pred_test = clf.predict(X_test)\n",
        "y_pred_train = clf.predict(X_train)\n",
        "print('confusion_matrix for test \\n', confusion_matrix(y_test, y_pred_test))\n",
        "print('confusion_matrix for train \\n', confusion_matrix(y_train, y_pred_train))\n",
        "MSE_train = mean_squared_error(y_train, y_pred_train)\n",
        "MSE_test  = mean_squared_error(y_test,  y_pred_test)\n",
        "print('MSE train = ', MSE_train, 'MSE test = ', MSE_test)\n",
        "acc_train = accuracy_score(y_train, y_pred_train)\n",
        "acc_test = accuracy_score(y_test,  y_pred_test)\n",
        "print('acc train = ', acc_train, 'acc test = ', acc_test)"
      ],
      "metadata": {
        "colab": {
          "base_uri": "https://localhost:8080/"
        },
        "id": "_-cpuWU_cHND",
        "outputId": "a391821c-ea99-4c83-e0b0-7d00e28a8b09"
      },
      "execution_count": null,
      "outputs": [
        {
          "output_type": "stream",
          "name": "stdout",
          "text": [
            "for sklern model:\n",
            "model score: 0.921\n",
            "confusion_matrix for test \n",
            " [[13580  1030]\n",
            " [ 1025 10341]]\n",
            "confusion_matrix for train \n",
            " [[54730  4112]\n",
            " [ 4199 40863]]\n",
            "MSE train =  0.07998729596550662 MSE test =  0.07911148752694795\n",
            "acc train =  0.9200127040344934 acc test =  0.920888512473052\n"
          ]
        }
      ]
    },
    {
      "cell_type": "markdown",
      "source": [
        "Отличная точность предсказаний, пока эта модель лучше всего подходит для данного датасета."
      ],
      "metadata": {
        "id": "Jf6SdvlwrO8n"
      }
    },
    {
      "cell_type": "markdown",
      "source": [
        "Реализуем поиск по сетке с кросс-валидацией"
      ],
      "metadata": {
        "id": "E3YAnjIvyjKw"
      }
    },
    {
      "cell_type": "markdown",
      "source": [
        ""
      ],
      "metadata": {
        "id": "cYGR6tDHPIU5"
      }
    },
    {
      "cell_type": "markdown",
      "source": [
        "Пришлось обучать лишь на части всего объема данных, так как при использовании всего датасета не хватило и двух часов , чтобы реализовать поиск по сетке с кросс валидацией"
      ],
      "metadata": {
        "id": "hc5KLFpZPZKJ"
      }
    },
    {
      "cell_type": "code",
      "source": [
        "param_grid = {'model__C':[1,10,100],'model__gamma':[1,0.1,0.001], 'model__kernel':['linear','rbf']}\n",
        "grid = GridSearchCV(clf,  \n",
        "                    param_grid,\n",
        "                    refit = True, \n",
        "                    verbose=2,\n",
        "                    cv = 5)\n",
        "\n",
        "grid.fit(X_train1, y_train1)   "
      ],
      "metadata": {
        "colab": {
          "base_uri": "https://localhost:8080/"
        },
        "id": "0MzXZOuWdLpn",
        "outputId": "6d3df47e-bd24-40e7-99b6-d227c22f5c41"
      },
      "execution_count": null,
      "outputs": [
        {
          "output_type": "stream",
          "name": "stdout",
          "text": [
            "Fitting 5 folds for each of 18 candidates, totalling 90 fits\n",
            "[CV] END ...model__C=1, model__gamma=1, model__kernel=linear; total time=   2.0s\n",
            "[CV] END ...model__C=1, model__gamma=1, model__kernel=linear; total time=   1.5s\n",
            "[CV] END ...model__C=1, model__gamma=1, model__kernel=linear; total time=   1.5s\n",
            "[CV] END ...model__C=1, model__gamma=1, model__kernel=linear; total time=   1.5s\n",
            "[CV] END ...model__C=1, model__gamma=1, model__kernel=linear; total time=   1.4s\n",
            "[CV] END ......model__C=1, model__gamma=1, model__kernel=rbf; total time=   1.4s\n",
            "[CV] END ......model__C=1, model__gamma=1, model__kernel=rbf; total time=   1.4s\n",
            "[CV] END ......model__C=1, model__gamma=1, model__kernel=rbf; total time=   1.3s\n",
            "[CV] END ......model__C=1, model__gamma=1, model__kernel=rbf; total time=   1.4s\n",
            "[CV] END ......model__C=1, model__gamma=1, model__kernel=rbf; total time=   1.4s\n",
            "[CV] END .model__C=1, model__gamma=0.1, model__kernel=linear; total time=   1.4s\n",
            "[CV] END .model__C=1, model__gamma=0.1, model__kernel=linear; total time=   1.5s\n",
            "[CV] END .model__C=1, model__gamma=0.1, model__kernel=linear; total time=   1.5s\n",
            "[CV] END .model__C=1, model__gamma=0.1, model__kernel=linear; total time=   1.5s\n",
            "[CV] END .model__C=1, model__gamma=0.1, model__kernel=linear; total time=   1.4s\n",
            "[CV] END ....model__C=1, model__gamma=0.1, model__kernel=rbf; total time=   0.9s\n",
            "[CV] END ....model__C=1, model__gamma=0.1, model__kernel=rbf; total time=   1.0s\n",
            "[CV] END ....model__C=1, model__gamma=0.1, model__kernel=rbf; total time=   1.0s\n",
            "[CV] END ....model__C=1, model__gamma=0.1, model__kernel=rbf; total time=   1.0s\n",
            "[CV] END ....model__C=1, model__gamma=0.1, model__kernel=rbf; total time=   1.0s\n",
            "[CV] END model__C=1, model__gamma=0.001, model__kernel=linear; total time=   1.4s\n",
            "[CV] END model__C=1, model__gamma=0.001, model__kernel=linear; total time=   1.5s\n",
            "[CV] END model__C=1, model__gamma=0.001, model__kernel=linear; total time=   1.5s\n",
            "[CV] END model__C=1, model__gamma=0.001, model__kernel=linear; total time=   1.5s\n",
            "[CV] END model__C=1, model__gamma=0.001, model__kernel=linear; total time=   1.4s\n",
            "[CV] END ..model__C=1, model__gamma=0.001, model__kernel=rbf; total time=   1.8s\n",
            "[CV] END ..model__C=1, model__gamma=0.001, model__kernel=rbf; total time=   1.8s\n",
            "[CV] END ..model__C=1, model__gamma=0.001, model__kernel=rbf; total time=   1.8s\n",
            "[CV] END ..model__C=1, model__gamma=0.001, model__kernel=rbf; total time=   1.8s\n",
            "[CV] END ..model__C=1, model__gamma=0.001, model__kernel=rbf; total time=   1.8s\n",
            "[CV] END ..model__C=10, model__gamma=1, model__kernel=linear; total time=   3.6s\n",
            "[CV] END ..model__C=10, model__gamma=1, model__kernel=linear; total time=   3.6s\n",
            "[CV] END ..model__C=10, model__gamma=1, model__kernel=linear; total time=   3.7s\n",
            "[CV] END ..model__C=10, model__gamma=1, model__kernel=linear; total time=   3.9s\n",
            "[CV] END ..model__C=10, model__gamma=1, model__kernel=linear; total time=   3.5s\n",
            "[CV] END .....model__C=10, model__gamma=1, model__kernel=rbf; total time=   1.5s\n",
            "[CV] END .....model__C=10, model__gamma=1, model__kernel=rbf; total time=   1.4s\n",
            "[CV] END .....model__C=10, model__gamma=1, model__kernel=rbf; total time=   1.5s\n",
            "[CV] END .....model__C=10, model__gamma=1, model__kernel=rbf; total time=   1.5s\n",
            "[CV] END .....model__C=10, model__gamma=1, model__kernel=rbf; total time=   1.5s\n",
            "[CV] END model__C=10, model__gamma=0.1, model__kernel=linear; total time=   3.6s\n",
            "[CV] END model__C=10, model__gamma=0.1, model__kernel=linear; total time=   4.3s\n",
            "[CV] END model__C=10, model__gamma=0.1, model__kernel=linear; total time=   3.7s\n",
            "[CV] END model__C=10, model__gamma=0.1, model__kernel=linear; total time=   3.9s\n",
            "[CV] END model__C=10, model__gamma=0.1, model__kernel=linear; total time=   3.5s\n",
            "[CV] END ...model__C=10, model__gamma=0.1, model__kernel=rbf; total time=   1.1s\n",
            "[CV] END ...model__C=10, model__gamma=0.1, model__kernel=rbf; total time=   1.1s\n",
            "[CV] END ...model__C=10, model__gamma=0.1, model__kernel=rbf; total time=   1.0s\n",
            "[CV] END ...model__C=10, model__gamma=0.1, model__kernel=rbf; total time=   1.1s\n",
            "[CV] END ...model__C=10, model__gamma=0.1, model__kernel=rbf; total time=   1.0s\n",
            "[CV] END model__C=10, model__gamma=0.001, model__kernel=linear; total time=   3.6s\n",
            "[CV] END model__C=10, model__gamma=0.001, model__kernel=linear; total time=   3.6s\n",
            "[CV] END model__C=10, model__gamma=0.001, model__kernel=linear; total time=   3.7s\n",
            "[CV] END model__C=10, model__gamma=0.001, model__kernel=linear; total time=   3.9s\n",
            "[CV] END model__C=10, model__gamma=0.001, model__kernel=linear; total time=   3.5s\n",
            "[CV] END .model__C=10, model__gamma=0.001, model__kernel=rbf; total time=   1.4s\n",
            "[CV] END .model__C=10, model__gamma=0.001, model__kernel=rbf; total time=   1.5s\n",
            "[CV] END .model__C=10, model__gamma=0.001, model__kernel=rbf; total time=   1.5s\n",
            "[CV] END .model__C=10, model__gamma=0.001, model__kernel=rbf; total time=   1.5s\n",
            "[CV] END .model__C=10, model__gamma=0.001, model__kernel=rbf; total time=   1.5s\n",
            "[CV] END .model__C=100, model__gamma=1, model__kernel=linear; total time=  16.6s\n",
            "[CV] END .model__C=100, model__gamma=1, model__kernel=linear; total time=  17.9s\n",
            "[CV] END .model__C=100, model__gamma=1, model__kernel=linear; total time=  21.0s\n",
            "[CV] END .model__C=100, model__gamma=1, model__kernel=linear; total time=  36.6s\n",
            "[CV] END .model__C=100, model__gamma=1, model__kernel=linear; total time=  19.1s\n",
            "[CV] END ....model__C=100, model__gamma=1, model__kernel=rbf; total time=   2.0s\n",
            "[CV] END ....model__C=100, model__gamma=1, model__kernel=rbf; total time=   2.0s\n",
            "[CV] END ....model__C=100, model__gamma=1, model__kernel=rbf; total time=   2.1s\n",
            "[CV] END ....model__C=100, model__gamma=1, model__kernel=rbf; total time=   1.9s\n",
            "[CV] END ....model__C=100, model__gamma=1, model__kernel=rbf; total time=   1.9s\n",
            "[CV] END model__C=100, model__gamma=0.1, model__kernel=linear; total time=  16.7s\n",
            "[CV] END model__C=100, model__gamma=0.1, model__kernel=linear; total time=  18.0s\n",
            "[CV] END model__C=100, model__gamma=0.1, model__kernel=linear; total time=  21.8s\n",
            "[CV] END model__C=100, model__gamma=0.1, model__kernel=linear; total time=  35.8s\n",
            "[CV] END model__C=100, model__gamma=0.1, model__kernel=linear; total time=  18.0s\n",
            "[CV] END ..model__C=100, model__gamma=0.1, model__kernel=rbf; total time=   2.0s\n",
            "[CV] END ..model__C=100, model__gamma=0.1, model__kernel=rbf; total time=   2.1s\n",
            "[CV] END ..model__C=100, model__gamma=0.1, model__kernel=rbf; total time=   1.9s\n",
            "[CV] END ..model__C=100, model__gamma=0.1, model__kernel=rbf; total time=   1.7s\n",
            "[CV] END ..model__C=100, model__gamma=0.1, model__kernel=rbf; total time=   2.0s\n",
            "[CV] END model__C=100, model__gamma=0.001, model__kernel=linear; total time=  16.7s\n",
            "[CV] END model__C=100, model__gamma=0.001, model__kernel=linear; total time=  18.1s\n",
            "[CV] END model__C=100, model__gamma=0.001, model__kernel=linear; total time=  21.0s\n",
            "[CV] END model__C=100, model__gamma=0.001, model__kernel=linear; total time=  35.6s\n",
            "[CV] END model__C=100, model__gamma=0.001, model__kernel=linear; total time=  17.9s\n",
            "[CV] END model__C=100, model__gamma=0.001, model__kernel=rbf; total time=   1.4s\n",
            "[CV] END model__C=100, model__gamma=0.001, model__kernel=rbf; total time=   1.4s\n",
            "[CV] END model__C=100, model__gamma=0.001, model__kernel=rbf; total time=   1.5s\n",
            "[CV] END model__C=100, model__gamma=0.001, model__kernel=rbf; total time=   1.4s\n",
            "[CV] END model__C=100, model__gamma=0.001, model__kernel=rbf; total time=   1.5s\n"
          ]
        },
        {
          "output_type": "execute_result",
          "data": {
            "text/plain": [
              "GridSearchCV(cv=5,\n",
              "             estimator=Pipeline(steps=[('fill_spaces',\n",
              "                                        <__main__.SpInpTransformer object at 0x7fadba010750>),\n",
              "                                       ('transform_column',\n",
              "                                        ColumnTransformer(transformers=[('drop_columns',\n",
              "                                                                         'drop',\n",
              "                                                                         ['Gender',\n",
              "                                                                          'customer_type',\n",
              "                                                                          'age',\n",
              "                                                                          'departure_arrival_time_convenient',\n",
              "                                                                          'customer_class',\n",
              "                                                                          'gate_location',\n",
              "                                                                          'food_and_drink',\n",
              "                                                                          'onboard_service',\n",
              "                                                                          'leg_room_service',\n",
              "                                                                          'baggage_h...\n",
              "                                                                         ['inflight_wifi_service',\n",
              "                                                                          'ease_of_online_booking',\n",
              "                                                                          'online_boarding',\n",
              "                                                                          'seat_comfort',\n",
              "                                                                          'inflight_entertainment',\n",
              "                                                                          'arrival_delay_in_minutes']),\n",
              "                                                                        ('cat_processing',\n",
              "                                                                         Pipeline(steps=[('onehotenc',\n",
              "                                                                                          OneHotEncoder(handle_unknown='ignore'))]),\n",
              "                                                                         ['type_of_travel'])])),\n",
              "                                       ('model', SVC())]),\n",
              "             param_grid={'model__C': [1, 10, 100],\n",
              "                         'model__gamma': [1, 0.1, 0.001],\n",
              "                         'model__kernel': ['linear', 'rbf']},\n",
              "             verbose=2)"
            ]
          },
          "metadata": {},
          "execution_count": 19
        }
      ]
    },
    {
      "cell_type": "markdown",
      "source": [
        "Лучшие параметры:"
      ],
      "metadata": {
        "id": "XSJypL7EzB3V"
      }
    },
    {
      "cell_type": "code",
      "source": [
        "print('Best Params:', grid.best_params_)\n",
        "print('Best score:', grid.best_score_)\n",
        "print(grid.best_estimator_.get_params()['model'])"
      ],
      "metadata": {
        "colab": {
          "base_uri": "https://localhost:8080/"
        },
        "id": "6vsq17xfy6C3",
        "outputId": "4fcca16f-b345-4885-c987-24af4b033ad5"
      },
      "execution_count": null,
      "outputs": [
        {
          "output_type": "stream",
          "name": "stdout",
          "text": [
            "Best Params: {'model__C': 1, 'model__gamma': 1, 'model__kernel': 'rbf'}\n",
            "Best score: 0.9125\n",
            "SVC(C=1, gamma=1)\n"
          ]
        }
      ]
    },
    {
      "cell_type": "markdown",
      "source": [
        "для подвыборки:"
      ],
      "metadata": {
        "id": "KZQo-nNuRvra"
      }
    },
    {
      "cell_type": "code",
      "source": [
        "y_pred_test = grid.predict(X_test1)\n",
        "acc_test = accuracy_score(y_test1,  y_pred_test)\n",
        "acc_test"
      ],
      "metadata": {
        "colab": {
          "base_uri": "https://localhost:8080/"
        },
        "id": "I9ATaU7Ty9_K",
        "outputId": "ed1ee60b-2029-4180-a1b9-18cb6e605b14"
      },
      "execution_count": null,
      "outputs": [
        {
          "output_type": "execute_result",
          "data": {
            "text/plain": [
              "0.9185"
            ]
          },
          "metadata": {},
          "execution_count": 26
        }
      ]
    },
    {
      "cell_type": "markdown",
      "source": [
        "Для всего датасета:"
      ],
      "metadata": {
        "id": "sLSBq4kER6Gz"
      }
    },
    {
      "cell_type": "code",
      "source": [
        "y_pred_test = grid.predict(X_test)\n",
        "acc_test = accuracy_score(y_test,  y_pred_test)\n",
        "acc_test"
      ],
      "metadata": {
        "colab": {
          "base_uri": "https://localhost:8080/"
        },
        "id": "BBFpi76GR0UQ",
        "outputId": "7bba9423-518e-47da-d113-0d5c07516dc5"
      },
      "execution_count": null,
      "outputs": [
        {
          "output_type": "execute_result",
          "data": {
            "text/plain": [
              "0.08138281490606714"
            ]
          },
          "metadata": {},
          "execution_count": 27
        }
      ]
    },
    {
      "cell_type": "markdown",
      "source": [
        "точность очень плохая, поэтому лучше оставить параметры по умолчанию, которые дали точность 92"
      ],
      "metadata": {
        "id": "G_zxOPLGSLJ9"
      }
    },
    {
      "cell_type": "markdown",
      "source": [
        "Получим оценки для модели clf(которая дала точность 92):"
      ],
      "metadata": {
        "id": "C39idJ-3pdwv"
      }
    },
    {
      "cell_type": "code",
      "source": [
        "recall_score(y_test, y_pred_test)"
      ],
      "metadata": {
        "colab": {
          "base_uri": "https://localhost:8080/"
        },
        "id": "TF1of1YApjDT",
        "outputId": "7c92f8bc-552a-4c43-a87f-2f794fbd6a6a"
      },
      "execution_count": null,
      "outputs": [
        {
          "output_type": "execute_result",
          "data": {
            "text/plain": [
              "0.9098187576983987"
            ]
          },
          "metadata": {},
          "execution_count": 30
        }
      ]
    },
    {
      "cell_type": "code",
      "source": [
        "precision_score(y_test, y_pred_test)"
      ],
      "metadata": {
        "colab": {
          "base_uri": "https://localhost:8080/"
        },
        "id": "AqxjO2d0pkBV",
        "outputId": "ea8fc9ae-1b55-40e9-a360-addfc6ce9754"
      },
      "execution_count": null,
      "outputs": [
        {
          "output_type": "execute_result",
          "data": {
            "text/plain": [
              "0.9094186966845484"
            ]
          },
          "metadata": {},
          "execution_count": 31
        }
      ]
    },
    {
      "cell_type": "code",
      "source": [
        "from sklearn.metrics import auc \n",
        "  \n",
        "fpr, tpr, thresholds = roc_curve(y_test, y_pred_test, pos_label=1) \n",
        "print('fpr: ' + str(fpr))\n",
        "print('tpr: ' + str(tpr))\n",
        "print('thresholds: ' + str(thresholds))\n",
        " \n",
        "  \n",
        "AUC = auc(fpr, tpr) \n",
        "print('AUC: ' + str(AUC))\n",
        " \n",
        "print('\\n\\n')\n",
        "plt.plot(fpr, tpr)  \n",
        "plt.title('ROC_curve' + '(AUC: ' + str(AUC) + ')' )  \n",
        "plt.ylabel('True Positive Rate')  \n",
        "plt.xlabel('False Positive Rate')  \n",
        "plt.show()"
      ],
      "metadata": {
        "colab": {
          "base_uri": "https://localhost:8080/",
          "height": 417
        },
        "id": "O9i1EwXJpjwq",
        "outputId": "86fc13f3-4f6d-4935-dea7-8755815c6d8b"
      },
      "execution_count": null,
      "outputs": [
        {
          "output_type": "stream",
          "name": "stdout",
          "text": [
            "fpr: [0.         0.07049966 1.        ]\n",
            "tpr: [0.         0.90981876 1.        ]\n",
            "thresholds: [2 1 0]\n",
            "AUC: 0.9196595499648735\n",
            "\n",
            "\n",
            "\n"
          ]
        },
        {
          "output_type": "display_data",
          "data": {
            "text/plain": [
              "<Figure size 432x288 with 1 Axes>"
            ],
            "image/png": "[encoded data removed]"
          },
          "metadata": {
            "needs_background": "light"
          }
        }
      ]
    },
    {
      "cell_type": "markdown",
      "source": [
        "Сохранение в файл и проверка"
      ],
      "metadata": {
        "id": "Dv8yiQCVzNCR"
      }
    },
    {
      "cell_type": "code",
      "source": [
        "joblib.dump(clf, \"SVM_model.pkl\")\n",
        "clf_SVM = joblib.load(\"SVM_model.pkl\")\n",
        "y_pred = clf_SVM.predict(X_test)\n",
        "accuracy_score(y_test, y_pred)"
      ],
      "metadata": {
        "colab": {
          "base_uri": "https://localhost:8080/"
        },
        "id": "0k5lwe10zLmQ",
        "outputId": "38e6e344-809d-4aad-d3c1-dbb78e2259c2"
      },
      "execution_count": null,
      "outputs": [
        {
          "output_type": "execute_result",
          "data": {
            "text/plain": [
              "0.920888512473052"
            ]
          },
          "metadata": {},
          "execution_count": 33
        }
      ]
    },
    {
      "cell_type": "markdown",
      "source": [
        "# Naive Bayes"
      ],
      "metadata": {
        "id": "NRnrx-TzFhQL"
      }
    },
    {
      "cell_type": "code",
      "source": [
        "from sklearn.naive_bayes import GaussianNB"
      ],
      "metadata": {
        "id": "EM4X57XIFg6r"
      },
      "execution_count": null,
      "outputs": []
    },
    {
      "cell_type": "markdown",
      "source": [
        "Моя реализация: выполнено наследование от BaseEstimator, ClassifierMixin, реализованы fit и predict в соответствии со стандартами scikit-learn."
      ],
      "metadata": {
        "id": "cyN8nejrUnkB"
      }
    },
    {
      "cell_type": "markdown",
      "source": [
        "Гауссовский наивный байесовский алгоритм для классификации. Предполагается, что вероятность появления признаков гауссова"
      ],
      "metadata": {
        "id": "GGjWsqcKk7sF"
      }
    },
    {
      "cell_type": "code",
      "source": [
        "class Classifier_NB(BaseEstimator, ClassifierMixin):\n",
        "    \n",
        "    def fit(self, X, y):\n",
        "\n",
        "        # Check that X and y have correct shape\n",
        "        X, y = check_X_y(X, y)\n",
        "        \n",
        "        n_samp, n_ft = X.shape\n",
        "        self._classes = np.unique(y)\n",
        "        n_cl = len(self._classes)\n",
        "        self._mean = np.zeros((n_cl, n_ft), dtype = np.float64)\n",
        "        self._var = np.zeros((n_cl, n_ft), dtype = np.float64)\n",
        "        self._priors = np.zeros(n_cl, dtype = np.float64)\n",
        "\n",
        "        for classes in self._classes:\n",
        "          X_c = X[classes == y]\n",
        "          self._mean[classes,:] = X_c.mean(axis = 0)\n",
        "          self._var[classes,:] = X_c.var(axis = 0)\n",
        "          self._priors[classes] = X_c.shape[0] / float(n_samp)\n",
        "        # Return the classifier\n",
        "        return self\n",
        "\n",
        "    def predict(self, X):\n",
        "\n",
        "        # Check is fit had been called\n",
        "        check_is_fitted(self, ['_mean', '_var', '_priors'])\n",
        "\n",
        "        # Input validation\n",
        "        X = check_array(X)\n",
        "        \n",
        "        pred_labels = [self.pred_for_each(x) for x in X]\n",
        "        return np.array(pred_labels)\n",
        "\n",
        "    def pred_for_each(self, x): \n",
        "        posts =[]\n",
        "\n",
        "        for idx, c in enumerate(self._classes):\n",
        "          prior = np.log(self._priors[idx])\n",
        "          class_cond = np.sum(np.log(self._pdf(idx, x)))\n",
        "          post = prior + class_cond\n",
        "          posts.append(post)\n",
        "\n",
        "        return self._classes[np.argmax(posts)]\n",
        "\n",
        "    def _pdf(self, class_idx, x):\n",
        "      mean = self._mean[class_idx] \n",
        "      var = self._var[class_idx] \n",
        "      return (np.exp(-(x-mean)**2/(2*var)))/(np.sqrt(2*np.pi*var))\n",
        "      "
      ],
      "metadata": {
        "id": "raVYFNrRUbT4"
      },
      "execution_count": null,
      "outputs": []
    },
    {
      "cell_type": "markdown",
      "source": [
        "pipeline для последубщего обучения и тестирования"
      ],
      "metadata": {
        "id": "7L6b2WxvU7-A"
      }
    },
    {
      "cell_type": "code",
      "source": [
        "my_clf = Pipeline(\n",
        "    [\n",
        "        (\"fill_spaces\", SpInpTransformer(ffill)),\n",
        "        (\"transform_column\", col_transformer),\n",
        "        (\"model\", Classifier_NB())\n",
        "    ])\n",
        "clf = Pipeline(\n",
        "    [\n",
        "        (\"fill_spaces\", SpInpTransformer(ffill)),\n",
        "        (\"transform_column\", col_transformer),\n",
        "        (\"model\", GaussianNB())\n",
        "    ])"
      ],
      "metadata": {
        "id": "TBoPQOQAU4Tf"
      },
      "execution_count": null,
      "outputs": []
    },
    {
      "cell_type": "markdown",
      "source": [
        "Обучение и тестирование для моей модели:"
      ],
      "metadata": {
        "id": "GKnL9wpcVAuB"
      }
    },
    {
      "cell_type": "code",
      "source": [
        "print('for my model:')\n",
        "my_clf.fit(X_train, y_train)\n",
        "y_pred_test = my_clf.predict(X_test)\n",
        "y_pred_train = my_clf.predict(X_train)\n",
        "print('confusion_matrix for test \\n', confusion_matrix(y_test, y_pred_test))\n",
        "print('confusion_matrix for train \\n', confusion_matrix(y_train, y_pred_train))\n",
        "MSE_train = mean_squared_error(y_train, y_pred_train)\n",
        "MSE_test  = mean_squared_error(y_test,  y_pred_test)\n",
        "print('MSE train = ', MSE_train, 'MSE test = ', MSE_test)\n",
        "acc_train = accuracy_score(y_train, y_pred_train)\n",
        "acc_test = accuracy_score(y_test,  y_pred_test)\n",
        "print('acc train = ', acc_train, 'acc test = ', acc_test)"
      ],
      "metadata": {
        "colab": {
          "base_uri": "https://localhost:8080/"
        },
        "id": "jko0PQ7tVBhR",
        "outputId": "7c6a2071-0347-46e2-c0d3-fb83a2ae5b3d"
      },
      "execution_count": null,
      "outputs": [
        {
          "output_type": "stream",
          "name": "stdout",
          "text": [
            "for my model:\n"
          ]
        },
        {
          "output_type": "stream",
          "name": "stderr",
          "text": [
            "/usr/local/lib/python3.7/dist-packages/ipykernel_launcher.py:39: RuntimeWarning: divide by zero encountered in log\n"
          ]
        },
        {
          "output_type": "stream",
          "name": "stdout",
          "text": [
            "confusion_matrix for test \n",
            " [[10782  3828]\n",
            " [ 1534  9832]]\n",
            "confusion_matrix for train \n",
            " [[43669 15173]\n",
            " [ 5894 39168]]\n",
            "MSE train =  0.20275446566060978 MSE test =  0.20642131198028948\n",
            "acc train =  0.7972455343393902 acc test =  0.7935786880197105\n"
          ]
        }
      ]
    },
    {
      "cell_type": "markdown",
      "source": [
        "Обучение и тестирование для sklearn модели:"
      ],
      "metadata": {
        "id": "BQJ6_Dc4VFrc"
      }
    },
    {
      "cell_type": "code",
      "source": [
        "print('for sklern model:')\n",
        "clf.fit(X_train, y_train)\n",
        "print(\"model score: %.3f\" % clf.score(X_test, y_test))\n",
        "y_pred_test = clf.predict(X_test)\n",
        "y_pred_train = clf.predict(X_train)\n",
        "print('confusion_matrix for test \\n', confusion_matrix(y_test, y_pred_test))\n",
        "print('confusion_matrix for train \\n', confusion_matrix(y_train, y_pred_train))\n",
        "MSE_train = mean_squared_error(y_train, y_pred_train)\n",
        "MSE_test  = mean_squared_error(y_test,  y_pred_test)\n",
        "print('MSE train = ', MSE_train, 'MSE test = ', MSE_test)\n",
        "acc_train = accuracy_score(y_train, y_pred_train)\n",
        "acc_test = accuracy_score(y_test,  y_pred_test)\n",
        "print('acc train = ', acc_train, 'acc test = ', acc_test)"
      ],
      "metadata": {
        "colab": {
          "base_uri": "https://localhost:8080/"
        },
        "id": "jCdI90IaVGAe",
        "outputId": "1ceb788a-edb2-4e7f-b217-b520040fc4be"
      },
      "execution_count": null,
      "outputs": [
        {
          "output_type": "stream",
          "name": "stdout",
          "text": [
            "for sklern model:\n",
            "model score: 0.794\n",
            "confusion_matrix for test \n",
            " [[10782  3828]\n",
            " [ 1534  9832]]\n",
            "confusion_matrix for train \n",
            " [[43669 15173]\n",
            " [ 5894 39168]]\n",
            "MSE train =  0.20275446566060978 MSE test =  0.20642131198028948\n",
            "acc train =  0.7972455343393902 acc test =  0.7935786880197105\n"
          ]
        }
      ]
    },
    {
      "cell_type": "markdown",
      "source": [
        "Результаты встроенной модели и нашей оказались одинаковыми.\n"
      ],
      "metadata": {
        "id": "Y5LLFhKMVTWq"
      }
    },
    {
      "cell_type": "markdown",
      "source": [
        "Реализуем поиск по сетке с кросс-валидацией"
      ],
      "metadata": {
        "id": "RB0Q95N0VbQf"
      }
    },
    {
      "cell_type": "code",
      "source": [
        "parameters = {\n",
        "    'model__var_smoothing': np.logspace(0,-9, num=100)\n",
        "}\n",
        "grid_search = GridSearchCV(clf,  \n",
        "                           param_grid = parameters,\n",
        "                           cv = 5)\n",
        "\n",
        "grid_search.fit(X_train, y_train)   "
      ],
      "metadata": {
        "colab": {
          "base_uri": "https://localhost:8080/"
        },
        "id": "c4MJOjcmVSiG",
        "outputId": "0f7568ea-cd93-46c1-93c8-d866ceb55e6f"
      },
      "execution_count": null,
      "outputs": [
        {
          "output_type": "execute_result",
          "data": {
            "text/plain": [
              "GridSearchCV(cv=5,\n",
              "             estimator=Pipeline(steps=[('fill_spaces',\n",
              "                                        <__main__.SpInpTransformer object at 0x7fadb9088310>),\n",
              "                                       ('transform_column',\n",
              "                                        ColumnTransformer(transformers=[('drop_columns',\n",
              "                                                                         'drop',\n",
              "                                                                         ['Gender',\n",
              "                                                                          'customer_type',\n",
              "                                                                          'age',\n",
              "                                                                          'departure_arrival_time_convenient',\n",
              "                                                                          'customer_class',\n",
              "                                                                          'gate_location',\n",
              "                                                                          'food_and_drink',\n",
              "                                                                          'onboard_service',\n",
              "                                                                          'leg_room_service',\n",
              "                                                                          'baggage_h...\n",
              "       1.23284674e-07, 1.00000000e-07, 8.11130831e-08, 6.57933225e-08,\n",
              "       5.33669923e-08, 4.32876128e-08, 3.51119173e-08, 2.84803587e-08,\n",
              "       2.31012970e-08, 1.87381742e-08, 1.51991108e-08, 1.23284674e-08,\n",
              "       1.00000000e-08, 8.11130831e-09, 6.57933225e-09, 5.33669923e-09,\n",
              "       4.32876128e-09, 3.51119173e-09, 2.84803587e-09, 2.31012970e-09,\n",
              "       1.87381742e-09, 1.51991108e-09, 1.23284674e-09, 1.00000000e-09])})"
            ]
          },
          "metadata": {},
          "execution_count": 39
        }
      ]
    },
    {
      "cell_type": "markdown",
      "source": [
        "Лучшие параметры:"
      ],
      "metadata": {
        "id": "nVVumfjEV-FP"
      }
    },
    {
      "cell_type": "code",
      "source": [
        "print('Best Params:', grid_search.best_params_)\n",
        "print('Best score:', grid_search.best_score_)\n",
        "print(grid_search.best_estimator_.get_params()['model'])"
      ],
      "metadata": {
        "colab": {
          "base_uri": "https://localhost:8080/"
        },
        "id": "RWHr_rqgVlKc",
        "outputId": "0ca83faa-a25e-40db-e860-dd1ca7736c2d"
      },
      "execution_count": null,
      "outputs": [
        {
          "output_type": "stream",
          "name": "stdout",
          "text": [
            "Best Params: {'model__var_smoothing': 0.23101297000831597}\n",
            "Best score: 0.835550130262156\n",
            "GaussianNB(var_smoothing=0.23101297000831597)\n"
          ]
        }
      ]
    },
    {
      "cell_type": "code",
      "source": [
        "y_pred_test = grid_search.predict(X_test)\n",
        "acc_test = accuracy_score(y_test,  y_pred_test)\n",
        "acc_test"
      ],
      "metadata": {
        "colab": {
          "base_uri": "https://localhost:8080/"
        },
        "id": "thqi1AvbVr7K",
        "outputId": "db942b5b-85c1-4207-e8ce-b9ef50253659"
      },
      "execution_count": null,
      "outputs": [
        {
          "output_type": "execute_result",
          "data": {
            "text/plain": [
              "0.8302279026793964"
            ]
          },
          "metadata": {},
          "execution_count": 41
        }
      ]
    },
    {
      "cell_type": "markdown",
      "source": [
        "С новыми параметрами точность улучшилась на 4 процента"
      ],
      "metadata": {
        "id": "LBrLvyFqqskm"
      }
    },
    {
      "cell_type": "markdown",
      "source": [
        "Получим еще оценки:"
      ],
      "metadata": {
        "id": "k5-eEUMfpw2E"
      }
    },
    {
      "cell_type": "code",
      "source": [
        "recall_score(y_test, y_pred_test)"
      ],
      "metadata": {
        "colab": {
          "base_uri": "https://localhost:8080/"
        },
        "id": "6FDv6Z4Qpwde",
        "outputId": "2baf0b46-6d8f-459e-df53-459d33fe0b0e"
      },
      "execution_count": null,
      "outputs": [
        {
          "output_type": "execute_result",
          "data": {
            "text/plain": [
              "0.8448002815414394"
            ]
          },
          "metadata": {},
          "execution_count": 42
        }
      ]
    },
    {
      "cell_type": "code",
      "source": [
        "precision_score(y_test, y_pred_test)"
      ],
      "metadata": {
        "colab": {
          "base_uri": "https://localhost:8080/"
        },
        "id": "UZh0W1llpwU4",
        "outputId": "a6e6cf1a-3397-4612-8b0b-2d6e5bcbc754"
      },
      "execution_count": null,
      "outputs": [
        {
          "output_type": "execute_result",
          "data": {
            "text/plain": [
              "0.7839647289353364"
            ]
          },
          "metadata": {},
          "execution_count": 43
        }
      ]
    },
    {
      "cell_type": "code",
      "source": [
        "from sklearn.metrics import auc \n",
        "  \n",
        "fpr, tpr, thresholds = roc_curve(y_test, y_pred_test, pos_label=1) \n",
        "print('fpr: ' + str(fpr))\n",
        "print('tpr: ' + str(tpr))\n",
        "print('thresholds: ' + str(thresholds))\n",
        " \n",
        "  \n",
        "AUC = auc(fpr, tpr) \n",
        "print('AUC: ' + str(AUC))\n",
        " \n",
        "print('\\n\\n')\n",
        "plt.plot(fpr, tpr)  \n",
        "plt.title('ROC_curve' + '(AUC: ' + str(AUC) + ')' )  \n",
        "plt.ylabel('True Positive Rate')  \n",
        "plt.xlabel('False Positive Rate')  \n",
        "plt.show()"
      ],
      "metadata": {
        "colab": {
          "base_uri": "https://localhost:8080/",
          "height": 417
        },
        "id": "xX8WlE5HpuZQ",
        "outputId": "663bbf82-8dd9-46a3-f931-10e9e1074f8e"
      },
      "execution_count": null,
      "outputs": [
        {
          "output_type": "stream",
          "name": "stdout",
          "text": [
            "fpr: [0.         0.18110883 1.        ]\n",
            "tpr: [0.         0.84480028 1.        ]\n",
            "thresholds: [2 1 0]\n",
            "AUC: 0.8318457259863254\n",
            "\n",
            "\n",
            "\n"
          ]
        },
        {
          "output_type": "display_data",
          "data": {
            "text/plain": [
              "<Figure size 432x288 with 1 Axes>"
            ],
            "image/png": "[encoded data removed]"
          },
          "metadata": {
            "needs_background": "light"
          }
        }
      ]
    },
    {
      "cell_type": "markdown",
      "source": [
        "Сохранение в файл и проверка"
      ],
      "metadata": {
        "id": "PrmhBnwAV3b2"
      }
    },
    {
      "cell_type": "code",
      "source": [
        "joblib.dump(grid_search, \"naive_bayes_model.pkl\")\n",
        "clf_naive_bayes = joblib.load(\"naive_bayes_model.pkl\")\n",
        "y_pred = clf_naive_bayes.predict(X_test)\n",
        "accuracy_score(y_test, y_pred)"
      ],
      "metadata": {
        "colab": {
          "base_uri": "https://localhost:8080/"
        },
        "id": "hryQodWNVusr",
        "outputId": "f18e60ae-f604-4b4a-abbf-3d97f604f6f6"
      },
      "execution_count": null,
      "outputs": [
        {
          "output_type": "execute_result",
          "data": {
            "text/plain": [
              "0.8302279026793964"
            ]
          },
          "metadata": {},
          "execution_count": 45
        }
      ]
    },
    {
      "cell_type": "code",
      "source": [
        ""
      ],
      "metadata": {
        "id": "nddcLOxDroIV"
      },
      "execution_count": null,
      "outputs": []
    }
  ]
}